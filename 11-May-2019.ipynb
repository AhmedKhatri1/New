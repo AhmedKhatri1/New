{
 "cells": [
  {
   "cell_type": "code",
   "execution_count": 1,
   "metadata": {},
   "outputs": [],
   "source": [
    "a =10\n",
    "b = 12.5\n",
    "z =True\n",
    "w = \"String\"\n"
   ]
  },
  {
   "cell_type": "code",
   "execution_count": 2,
   "metadata": {},
   "outputs": [
    {
     "data": {
      "text/plain": [
       "2.0"
      ]
     },
     "execution_count": 2,
     "metadata": {},
     "output_type": "execute_result"
    }
   ],
   "source": [
    "12/6 # for float we use single slash"
   ]
  },
  {
   "cell_type": "code",
   "execution_count": 3,
   "metadata": {},
   "outputs": [
    {
     "data": {
      "text/plain": [
       "2"
      ]
     },
     "execution_count": 3,
     "metadata": {},
     "output_type": "execute_result"
    }
   ],
   "source": [
    "12//6 # for integer we use double slash"
   ]
  },
  {
   "cell_type": "code",
   "execution_count": 4,
   "metadata": {},
   "outputs": [
    {
     "data": {
      "text/plain": [
       "2"
      ]
     },
     "execution_count": 4,
     "metadata": {},
     "output_type": "execute_result"
    }
   ],
   "source": [
    "12%5 # modulo operator reminder display karata he"
   ]
  },
  {
   "cell_type": "code",
   "execution_count": 5,
   "metadata": {},
   "outputs": [
    {
     "data": {
      "text/plain": [
       "200"
      ]
     },
     "execution_count": 5,
     "metadata": {},
     "output_type": "execute_result"
    }
   ],
   "source": [
    "num = 100\n",
    "num = num +100\n",
    "num"
   ]
  },
  {
   "cell_type": "code",
   "execution_count": 7,
   "metadata": {},
   "outputs": [
    {
     "data": {
      "text/plain": [
       "201"
      ]
     },
     "execution_count": 7,
     "metadata": {},
     "output_type": "execute_result"
    }
   ],
   "source": [
    "num =1\n",
    "num+=200\n",
    "num"
   ]
  },
  {
   "cell_type": "code",
   "execution_count": 9,
   "metadata": {},
   "outputs": [
    {
     "data": {
      "text/plain": [
       "6.0"
      ]
     },
     "execution_count": 9,
     "metadata": {},
     "output_type": "execute_result"
    }
   ],
   "source": [
    "a= (12*2)/4 # js pr bracket lagay hoga wo phle solve hoga\n",
    "a"
   ]
  },
  {
   "cell_type": "code",
   "execution_count": 10,
   "metadata": {},
   "outputs": [
    {
     "name": "stdout",
     "output_type": "stream",
     "text": [
      "My name isAhmedand my age is20\n"
     ]
    }
   ],
   "source": [
    "age = 20\n",
    "name = \"Ahmed\"\n",
    "print(\"My name is\"+ name + \"and my age is\"+str(age))"
   ]
  },
  {
   "cell_type": "code",
   "execution_count": 13,
   "metadata": {},
   "outputs": [
    {
     "name": "stdout",
     "output_type": "stream",
     "text": [
      "Enter your name plz : Ahmed\n",
      "Enter your age plz : 20\n",
      "My name is Ahmed and my age is 20\n"
     ]
    }
   ],
   "source": [
    "name = input(\"Enter your name plz : \")\n",
    "age = input(\"Enter your age plz : \")\n",
    "\n",
    "print(\"My name is \"+ name + \" and my age is \"+str(age))"
   ]
  },
  {
   "cell_type": "code",
   "execution_count": 17,
   "metadata": {},
   "outputs": [
    {
     "name": "stdout",
     "output_type": "stream",
     "text": [
      "Enter your name plz : Ahmed\n",
      "Enter your age plz : 20\n",
      "My name is Ahmed and my age is 40\n"
     ]
    }
   ],
   "source": [
    "name = input(\"Enter your name plz : \")\n",
    "age = int(input(\"Enter your age plz : \"))\n",
    "\n",
    "print(\"My name is \"+ name + \" and my age is \"+str(age+age))"
   ]
  },
  {
   "cell_type": "code",
   "execution_count": 19,
   "metadata": {},
   "outputs": [
    {
     "name": "stdout",
     "output_type": "stream",
     "text": [
      "Enter your name plz : Ahmed\n",
      "Enter your age plz : 20\n",
      "My name is Ahmed and my age is 20\n"
     ]
    }
   ],
   "source": [
    "name = input(\"Enter your name plz : \")\n",
    "age = int(input(\"Enter your age plz : \"))\n",
    "\n",
    "print(\"My name is {} and my age is {}\".format(name,age)) # easiet way"
   ]
  },
  {
   "cell_type": "code",
   "execution_count": 20,
   "metadata": {},
   "outputs": [
    {
     "name": "stdout",
     "output_type": "stream",
     "text": [
      "Enter your name plz : Ahmed\n",
      "Enter your age plz : 20\n",
      "My name is 20 and my age is Ahmed\n"
     ]
    }
   ],
   "source": [
    "name = input(\"Enter your name plz : \")\n",
    "age = int(input(\"Enter your age plz : \"))\n",
    "\n",
    "print(\"My name is {1} and my age is {0}\".format(name,age)) # easiet way"
   ]
  },
  {
   "cell_type": "code",
   "execution_count": 21,
   "metadata": {},
   "outputs": [
    {
     "name": "stdout",
     "output_type": "stream",
     "text": [
      "Enter your name plz : Ahmed\n",
      "Enter your age plz : 20\n",
      "My name is Ahmed and my age is 20\n"
     ]
    }
   ],
   "source": [
    "name = input(\"Enter your name plz : \")\n",
    "age = int(input(\"Enter your age plz : \"))\n",
    "\n",
    "print(f\"My name is {name} and my age is {age}\") # f way"
   ]
  },
  {
   "cell_type": "code",
   "execution_count": 1,
   "metadata": {},
   "outputs": [
    {
     "name": "stdout",
     "output_type": "stream",
     "text": [
      "A is small\n",
      "\n",
      "\n",
      "\n",
      "Ahmed\n"
     ]
    }
   ],
   "source": [
    "a = 10\n",
    "b = 20\n",
    "if a<b:\n",
    "    print(\"A is small\")\n",
    "    print()\n",
    "    print()\n",
    "    print()\n",
    "print(\"Ahmed\")"
   ]
  },
  {
   "cell_type": "code",
   "execution_count": 3,
   "metadata": {},
   "outputs": [
    {
     "name": "stdout",
     "output_type": "stream",
     "text": [
      "A is small\n",
      "\n",
      "\n",
      "\n"
     ]
    }
   ],
   "source": [
    "a = 10\n",
    "b = 20\n",
    "if a<b:\n",
    "    print(\"A is small\")\n",
    "    print()\n",
    "    print()\n",
    "    print()\n",
    "    if(b<a):\n",
    "        print(\"okay\")"
   ]
  },
  {
   "cell_type": "code",
   "execution_count": 8,
   "metadata": {},
   "outputs": [
    {
     "name": "stdout",
     "output_type": "stream",
     "text": [
      "Enter no : 2\n",
      "2 is even \n"
     ]
    }
   ],
   "source": [
    "a = int(input(\"Enter no : \"))\n",
    "if a%2==0:\n",
    "    print(f\"{a} is even \")\n",
    "else:\n",
    "    print(f\"{a} is odd\")"
   ]
  },
  {
   "cell_type": "code",
   "execution_count": 14,
   "metadata": {},
   "outputs": [
    {
     "name": "stdout",
     "output_type": "stream",
     "text": [
      "Enter no : 2\n",
      "2 is even\n"
     ]
    }
   ],
   "source": [
    "a = int(input(\"Enter no : \"))\n",
    "if a%2!=0:\n",
    "    print(f\"{a} is odd\")\n",
    "else:\n",
    "    print(f\"{a} is even\")"
   ]
  },
  {
   "cell_type": "code",
   "execution_count": null,
   "metadata": {},
   "outputs": [],
   "source": []
  }
 ],
 "metadata": {
  "kernelspec": {
   "display_name": "Python 3",
   "language": "python",
   "name": "python3"
  },
  "language_info": {
   "codemirror_mode": {
    "name": "ipython",
    "version": 3
   },
   "file_extension": ".py",
   "mimetype": "text/x-python",
   "name": "python",
   "nbconvert_exporter": "python",
   "pygments_lexer": "ipython3",
   "version": "3.7.3"
  }
 },
 "nbformat": 4,
 "nbformat_minor": 2
}
